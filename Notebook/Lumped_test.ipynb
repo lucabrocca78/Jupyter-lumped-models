{
 "cells": [
  {
   "cell_type": "code",
   "execution_count": 3,
   "metadata": {
    "pycharm": {
     "is_executing": false
    }
   },
   "outputs": [],
   "source": [
    "import os,glob,zipfile\n",
    "from Code import HBV_pso\n",
    "from Code import nam_pso\n",
    "from Code import GR4J_pso\n",
    "import numpy as np\n",
    "import pandas as pd\n",
    "import ipywidgets as widgets\n",
    "from IPython.display import display,  clear_output\n",
    "from ipywidgets import FileUpload\n"
   ]
  },
  {
   "cell_type": "markdown",
   "metadata": {},
   "source": [
    "### Model Selection "
   ]
  },
  {
   "cell_type": "code",
   "execution_count": null,
   "metadata": {
    "pycharm": {
     "is_executing": false
    },
    "scrolled": false
   },
   "outputs": [],
   "source": [
    "files = glob.glob1('./Data','*.csv')\n",
    "\n",
    "file = widgets.Dropdown(\n",
    "    options=files,\n",
    "    description='Data:',\n",
    "    disabled=False,\n",
    ")\n",
    "\n",
    "w = widgets.Dropdown(\n",
    "    options=['NAM', 'HBV', 'GR4J'],\n",
    "    value='HBV',\n",
    "    description='Model:',\n",
    "    disabled=False,\n",
    ")\n",
    "\n",
    "\n",
    "area = widgets.BoundedFloatText(\n",
    "    value=100,\n",
    "    min=0,\n",
    "    max=5000.0,\n",
    "    step=0.1,\n",
    "    description='Area:',\n",
    "    disabled=False\n",
    ")\n",
    "\n",
    "cal = widgets.RadioButtons(\n",
    "    options=['True','False'],\n",
    "    value='False',\n",
    "    description='Calibration <br>: ',\n",
    "    disabled=False\n",
    ")\n",
    "\n",
    "m = widgets.Dropdown(\n",
    "    options=['SLSQP', 'PSO', 'BFGS','Newton-CG'],\n",
    "    value='SLSQP',\n",
    "    description='Method:',\n",
    "    disabled=False,\n",
    ")\n",
    "\n",
    "max_ = widgets.IntText(\n",
    "    value=7,\n",
    "    description='Max Iteration:',\n",
    "    disabled=False\n",
    ")\n",
    "\n",
    "\n",
    "spin = widgets.IntText(\n",
    "    value=7,\n",
    "    description='Spinoff Day:',\n",
    "    disabled=False\n",
    ")\n",
    "\n",
    "\n",
    "obj = widgets.Dropdown(\n",
    "    options=['NSE', 'KGE', 'RMSE','R2','RMPW','NSLF'],\n",
    "    value='NSE',\n",
    "    description='Objective',\n",
    "    disabled=False,\n",
    ")\n",
    "\n",
    "\n",
    "\n",
    "display(file,w,area,cal,m,spin,max_,obj)"
   ]
  },
  {
   "cell_type": "code",
   "execution_count": null,
   "metadata": {
    "pycharm": {
     "is_executing": false
    }
   },
   "outputs": [],
   "source": [
    "if w.value == 'HBV':\n",
    "    params = [1.06653896e+00, 7.85803777e-01, 1.12456396e+00, 4.00000005e-02\n",
    "        , 6.52779758e+01, 1.40000000e+00, 2.04563613e-01, 5.00000000e-01\n",
    "        , 7.23806920e-03, 6.20000000e-04, 5.98308241e-01, 2.29012429e+00\n",
    "        , 2.32816764e-02, 4.01249854e-01, 0.00000000e+00, 1.25000000e-01\n",
    "        , 1.19040117e+00, 1.40000000e+00, 6.15462361e+00]\n",
    "    States = np.array([0, 0, 0.9 * params[1], 0, 0, 0, 0, 0.1])\n",
    "elif w.value == 'NAM':\n",
    "        params = [6.96780205e+00, 4.86098809e+02, 6.66247792e-01, 5.42601108e+02\n",
    "        , 2.43815545e+01, 8.21285865e-01, 1.00000000e-02, 1.00000000e-02\n",
    "        , 7.37979357e+02, 9.64180895e-01, 2.06295770e+00]\n",
    "        States = np.array([0, 0, 0.9 * params[1], 0, 0, 0, 0, 0.1])\n",
    "else:\n",
    "        params = np.array([350, 0.5, 90, 0.5, 0.5, 4])"
   ]
  },
  {
   "cell_type": "code",
   "execution_count": null,
   "metadata": {
    "pycharm": {
     "is_executing": false
    }
   },
   "outputs": [],
   "source": [
    "print(w.value,file.value,area.value,cal.value,m.value,spin.value,max_.value,obj.value)"
   ]
  },
  {
   "cell_type": "code",
   "execution_count": 12,
   "metadata": {
    "pycharm": {
     "is_executing": false,
     "name": "#%%\n"
    }
   },
   "outputs": [
    {
     "traceback": [
      "\u001b[0;31m---------------------------------------------------------------------------\u001b[0m",
      "\u001b[0;31mNameError\u001b[0m                                 Traceback (most recent call last)",
      "\u001b[0;32m<ipython-input-12-297c2f652f5a>\u001b[0m in \u001b[0;36m<module>\u001b[0;34m\u001b[0m\n\u001b[0;32m----> 1\u001b[0;31m \u001b[0mbutton\u001b[0m \u001b[0;34m=\u001b[0m \u001b[0mwidgets\u001b[0m\u001b[0;34m.\u001b[0m\u001b[0mButton\u001b[0m\u001b[0;34m(\u001b[0m\u001b[0mdescription\u001b[0m\u001b[0;34m=\u001b[0m\u001b[0;34m\"Run\"\u001b[0m\u001b[0;34m)\u001b[0m\u001b[0;34m\u001b[0m\u001b[0;34m\u001b[0m\u001b[0m\n\u001b[0m\u001b[1;32m      2\u001b[0m \u001b[0moutput\u001b[0m \u001b[0;34m=\u001b[0m \u001b[0mwidgets\u001b[0m\u001b[0;34m.\u001b[0m\u001b[0mOutput\u001b[0m\u001b[0;34m(\u001b[0m\u001b[0;34m)\u001b[0m\u001b[0;34m\u001b[0m\u001b[0;34m\u001b[0m\u001b[0m\n\u001b[1;32m      3\u001b[0m \u001b[0;34m\u001b[0m\u001b[0m\n\u001b[1;32m      4\u001b[0m \u001b[0;34m\u001b[0m\u001b[0m\n\u001b[1;32m      5\u001b[0m \u001b[0;32mdef\u001b[0m \u001b[0mprocess\u001b[0m\u001b[0;34m(\u001b[0m\u001b[0mb\u001b[0m\u001b[0;34m)\u001b[0m\u001b[0;34m:\u001b[0m\u001b[0;34m\u001b[0m\u001b[0;34m\u001b[0m\u001b[0m\n",
      "\u001b[0;31mNameError\u001b[0m: name 'widgets' is not defined"
     ],
     "ename": "NameError",
     "evalue": "name 'widgets' is not defined",
     "output_type": "error"
    }
   ],
   "source": [
    "button = widgets.Button(description=\"Run\")\n",
    "output = widgets.Output()\n",
    "\n",
    "\n",
    "def process(b):\n",
    "    \n",
    "    if w.value == 'HBV':\n",
    "            n = HBV_pso.Hbv(area.value, params, States, calibration=eval(cal.value), method=m.value, Objective_fun=obj.value.lower(), maxiter=max_.value,Spinoff=spin.value)\n",
    "    elif w.value == 'NAM':\n",
    "        n = nam_pso.Nam(area.value, params,States, calibration=eval(cal.value), method=m.value, Objective_fun=obj.value.lower(),maxiter=max_.value)\n",
    "    else:\n",
    "        n = GR4J_pso.GR4J(area.value, params, params, calibration=eval(cal.value), method=m.value, Objective_fun=obj.value.lower(), maxiter=max_.value, Spinoff=spin.value)\n",
    "    n.process_path = './Data'\n",
    "    n.Data_file = os.path.join(n.process_path, file.value)\n",
    "    n.run()\n",
    "    n.update()\n",
    "    n.draw()\n",
    "    # clear_o\n",
    "    process.data = n.df\n",
    "    return process.data\n",
    "    \n",
    "button.on_click(process)\n",
    "display(button)\n"
   ]
  },
  {
   "cell_type": "code",
   "execution_count": null,
   "metadata": {
    "pycharm": {
     "name": "#%%\n",
     "is_executing": false
    }
   },
   "outputs": [],
   "source": [
    "from bokeh.plotting import figure, ColumnDataSource, output_file, save\n",
    "from bokeh.models import Span, CrosshairTool, HoverTool, ResetTool, PanTool, WheelZoomTool, BoxZoomTool,SaveTool,FixedTicker,DaysTicker, FuncTickFormatter\n",
    "from bokeh.io import output_notebook, show\n",
    "from bokeh.models import DataRange1d,DatetimeTickFormatter\n",
    "from bokeh.palettes import Dark2_5 as palette\n",
    "import itertools\n",
    "import datetime\n",
    "colors = itertools.cycle(palette) \n",
    "\n",
    "output_notebook()\n",
    "\n",
    "TOOLS = [PanTool(),WheelZoomTool(),ResetTool(),BoxZoomTool(),SaveTool()]\n",
    "\n",
    "hover = HoverTool(\n",
    "    tooltips=[\n",
    "        ( 'Date',   '@Date{%F}'          ),\n",
    "        ( 'Q',  '@Q' ), # use @{ } for field names with spaces\n",
    "        ( 'Qsim', '@Qsim'      ),\n",
    "    ],\n",
    "\n",
    "    formatters={\n",
    "        'Date'      : 'datetime', # use 'datetime' formatter for 'date' field\n",
    "        'adj close' : 'printf',   # use 'printf' formatter for 'adj close' field\n",
    "                                  # use default 'numeral' formatter for other fields\n",
    "    },\n",
    "\n",
    "    mode='vline'\n",
    ") \n",
    "p = figure(title = 'Simulation' ,x_axis_label = 'Date', y_axis_label = 'Q',x_axis_type=\"datetime\",plot_width=900, plot_height=600,tools=TOOLS)\n",
    "source = ColumnDataSource(process.data[spin.value:] )\n",
    "p.line(x='Date', y='Q',source=source,line_color=\"red\",line_dash=\"4 4\", line_width=2,legend_label='Simulated',alpha = 0.8)\n",
    "p.line(x='Date', y='Qsim',source=source,line_color=\"blue\", line_width=2,legend_label='Observed',alpha = 0.8)\n",
    "\n",
    "# p.line(x='date', y='mean',source=source,line_color='#3288bd', line_width=2,legend_label=str(x))\n",
    "# p.x_range = DataRange1d(start=datetime.datetime(int(2016), 10, 1, 0, 0, 0), end=datetime.datetime(int(2017), 10, 1, 0, 0, 0))\n",
    "p.add_tools(hover)\n",
    "show(p)"
   ]
  },
  {
   "cell_type": "code",
   "execution_count": null,
   "metadata": {
    "pycharm": {
     "is_executing": false
    }
   },
   "outputs": [],
   "source": [
    "from ipyleaflet import *\n",
    "import glob,json,os\n",
    "import matplotlib as mpl\n",
    "import matplotlib.cm\n",
    "import matplotlib.colors\n",
    "import geopandas as gpd\n",
    "from random import randint\n",
    "\n",
    "from ipyleaflet import (\n",
    "    Map,\n",
    "    Marker,\n",
    "    TileLayer, ImageOverlay,\n",
    "    Polyline, Polygon, Rectangle, Circle, CircleMarker,\n",
    "    GeoJSON,\n",
    "    DrawControl\n",
    ")\n",
    "\n",
    "files = glob.glob('./uploaded_data/*')\n",
    "for f in files:\n",
    "    os.remove(f)\n",
    "    \n",
    "center = [37.6252978589571, 37.34580993652344]\n",
    "zoom = 5\n",
    "\n",
    "dc = DrawControl(marker={'shapeOptions': {'color': '#0000FF'}},\n",
    "                 rectangle={'shapeOptions': {'color': '#0000FF'}},\n",
    "                 circle={'shapeOptions': {'color': '#0000FF'}},\n",
    "                 circlemarker={},\n",
    "                 )\n",
    "base = basemap_to_tiles(basemaps.NASAGIBS.ModisTerraTrueColorCR, \"2017-01-01\")\n",
    "\n",
    "m = Map(center=center, zoom=zoom)\n",
    "m.add_layer(base)\n",
    "m.add_control(LayersControl())\n",
    "m.add_control(dc)\n",
    "\n",
    "m"
   ]
  },
  {
   "cell_type": "code",
   "execution_count": null,
   "metadata": {
    "pycharm": {
     "is_executing": false
    }
   },
   "outputs": [],
   "source": [
    "from shapely.geometry.polygon import Polygon\n",
    "from shapely import wkb\n",
    "\n",
    "try:\n",
    "    poly_union = gpd.GeoDataFrame()\n",
    "    my_poly=dc.last_draw['geometry']['coordinates'][0]\n",
    "    geom = Polygon(my_poly)\n",
    "    poli= gpd.GeoDataFrame(geometry=[geom])\n",
    "    poli['ID'] = 'TR'\n",
    "    poli.to_file(\"../file_uploads/drawed.shp\")\n",
    "    print(\"Shape file created\")\n",
    "    my_poly\n",
    "except:\n",
    "    print(\"Shape file could not created, draw a polygon in map\")"
   ]
  },
  {
   "cell_type": "code",
   "execution_count": 13,
   "metadata": {
    "pycharm": {
     "is_executing": false
    }
   },
   "outputs": [
    {
     "traceback": [
      "\u001b[0;31m---------------------------------------------------------------------------\u001b[0m",
      "\u001b[0;31mNameError\u001b[0m                                 Traceback (most recent call last)",
      "\u001b[0;32m<ipython-input-13-974bf5b95e60>\u001b[0m in \u001b[0;36m<module>\u001b[0;34m\u001b[0m\n\u001b[1;32m     25\u001b[0m     \u001b[0;34m'INSERT INTO my_lines(geom, name)'\u001b[0m\u001b[0;34m\u001b[0m\u001b[0;34m\u001b[0m\u001b[0m\n\u001b[1;32m     26\u001b[0m     \u001b[0;34m'VALUES (ST_SetSRID(%(geom)s::geometry, %(srid)s), %(name)s)'\u001b[0m\u001b[0;34m,\u001b[0m\u001b[0;34m\u001b[0m\u001b[0;34m\u001b[0m\u001b[0m\n\u001b[0;32m---> 27\u001b[0;31m     {'geom': geom.wkb_hex, 'srid': 4326, 'name': 'First Line'})\n\u001b[0m\u001b[1;32m     28\u001b[0m \u001b[0mconnection\u001b[0m\u001b[0;34m.\u001b[0m\u001b[0mcommit\u001b[0m\u001b[0;34m(\u001b[0m\u001b[0;34m)\u001b[0m\u001b[0;34m\u001b[0m\u001b[0;34m\u001b[0m\u001b[0m\n\u001b[1;32m     29\u001b[0m \u001b[0;34m\u001b[0m\u001b[0m\n",
      "\u001b[0;31mNameError\u001b[0m: name 'geom' is not defined"
     ],
     "ename": "NameError",
     "evalue": "name 'geom' is not defined",
     "output_type": "error"
    }
   ],
   "source": [
    "import psycopg2\n",
    "import pandas as pd\n",
    "import matplotlib.pyplot as plt\n",
    "from query import query\n",
    "import yaml\n",
    "\n",
    "with open('../Download/server.yaml') as file:\n",
    "    server_list = yaml.load(file, Loader=yaml.FullLoader)\n",
    "\n",
    "server = server_list['server']\n",
    "username = server_list['user']\n",
    "password = server_list['password']\n",
    "\n",
    "connection = psycopg2.connect(user = \"postgres\",\n",
    "                              password = password,\n",
    "                              host = server,\n",
    "                              port = \"5999\",\n",
    "                              database = \"postgres\")\n",
    "\n",
    "cursor = connection.cursor()\n",
    "\n",
    "\n",
    "cursor.execute('CREATE TEMP TABLE my_lines(geom geometry, name text)')\n",
    "cursor.execute(\n",
    "    'INSERT INTO my_lines(geom, name)'\n",
    "    'VALUES (ST_SetSRID(%(geom)s::geometry, %(srid)s), %(name)s)',\n",
    "    {'geom': geom.wkb_hex, 'srid': 4326, 'name': 'First Line'})\n",
    "connection.commit()\n",
    "\n",
    "cursor.execute('SELECT geom FROM my_lines')\n",
    "cursor.execute('SELECT name, geom FROM my_lines')\n",
    "for name, geom_wkb in cursor:\n",
    "    geom = wkb.loads(geom_wkb, hex=True)\n",
    "    polygon = geom.wkt\n",
    "\n",
    "sql = query('Temp',geom)\n",
    "# sql = query('pre',geom)\n",
    "# sql = query('pot',geom)\n",
    "# sql = query('snow',geom)\n",
    "\n",
    "cursor.execute(sql)\n",
    "data = cursor.fetchall() \n",
    "df = pd.DataFrame(data)\n",
    "plt.figure(figsize=(20,10))\n",
    "plt.plot(df[0],df[1])\n",
    "plt.title('Temprature')\n",
    "plt.xlabel('Date , days')\n",
    "plt.ylabel('Temprature , C')\n",
    "plt.show()\n",
    "cursor.close()\n",
    "connection.close()\n"
   ]
  },
  {
   "cell_type": "code",
   "execution_count": null,
   "metadata": {
    "pycharm": {
     "is_executing": false
    }
   },
   "outputs": [],
   "source": []
  }
 ],
 "metadata": {
  "kernelspec": {
   "display_name": "Python 3",
   "language": "python",
   "name": "python3"
  },
  "language_info": {
   "codemirror_mode": {
    "name": "ipython",
    "version": 3
   },
   "file_extension": ".py",
   "mimetype": "text/x-python",
   "name": "python",
   "nbconvert_exporter": "python",
   "pygments_lexer": "ipython3",
   "version": "3.7.5"
  },
  "pycharm": {
   "stem_cell": {
    "cell_type": "raw",
    "source": [],
    "metadata": {
     "collapsed": false
    }
   }
  }
 },
 "nbformat": 4,
 "nbformat_minor": 4
}