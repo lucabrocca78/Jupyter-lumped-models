{
 "cells": [
  {
   "cell_type": "code",
   "execution_count": 1,
   "metadata": {
    "pycharm": {
     "is_executing": false
    }
   },
   "outputs": [
    {
     "name": "stderr",
     "output_type": "stream",
     "text": [
      "/home/cak/Desktop/jupyter/venv/lib/python3.8/site-packages/pandas/compat/__init__.py:117: UserWarning: Could not import the lzma module. Your installed Python is incomplete. Attempting to use lzma compression will result in a RuntimeError.\n",
      "  warnings.warn(msg)\n"
     ]
    }
   ],
   "source": [
    "import os,glob,zipfile\n",
    "from Code import HBV_pso\n",
    "from Code import nam_pso\n",
    "from Code import GR4J_pso\n",
    "import numpy as np\n",
    "import pandas as pd\n",
    "import ipywidgets as widgets\n",
    "from IPython.display import display,  clear_output\n",
    "from ipysheet import from_array, to_array\n",
    "import ipysheet\n",
    "from ipywidgets import FileUpload\n"
   ]
  },
  {
   "cell_type": "markdown",
   "metadata": {},
   "source": [
    "### Model Selection "
   ]
  },
  {
   "cell_type": "code",
   "execution_count": 2,
   "metadata": {
    "pycharm": {
     "is_executing": false
    },
    "scrolled": true
   },
   "outputs": [
    {
     "data": {
      "application/vnd.jupyter.widget-view+json": {
       "model_id": "7a8b106542b44e68a8463286ead8b168",
       "version_major": 2,
       "version_minor": 0
      },
      "text/plain": [
       "Dropdown(description='Data:', options=('Cakit.csv', 'L0123002_1984_2012.csv', 'L0123001_2005_2012.csv', 'L0123…"
      ]
     },
     "metadata": {},
     "output_type": "display_data"
    },
    {
     "data": {
      "application/vnd.jupyter.widget-view+json": {
       "model_id": "93023a1273ea49cc8ebc43db516610a2",
       "version_major": 2,
       "version_minor": 0
      },
      "text/plain": [
       "Dropdown(description='Model:', index=1, options=('NAM', 'HBV', 'GR4J'), value='HBV')"
      ]
     },
     "metadata": {},
     "output_type": "display_data"
    },
    {
     "data": {
      "application/vnd.jupyter.widget-view+json": {
       "model_id": "47367fc7203440c18e4be11aa3c49d2b",
       "version_major": 2,
       "version_minor": 0
      },
      "text/plain": [
       "BoundedFloatText(value=100.0, description='Area:', max=5000.0, step=0.1)"
      ]
     },
     "metadata": {},
     "output_type": "display_data"
    },
    {
     "data": {
      "application/vnd.jupyter.widget-view+json": {
       "model_id": "ea0da91cf24c4ac7863a407fd4731900",
       "version_major": 2,
       "version_minor": 0
      },
      "text/plain": [
       "RadioButtons(description='Calibration <br>: ', index=1, options=('True', 'False'), value='False')"
      ]
     },
     "metadata": {},
     "output_type": "display_data"
    },
    {
     "data": {
      "application/vnd.jupyter.widget-view+json": {
       "model_id": "eded4eb51210448dbc1bb971db5f526d",
       "version_major": 2,
       "version_minor": 0
      },
      "text/plain": [
       "Dropdown(description='Method:', options=('SLSQP', 'PSO', 'BFGS', 'Newton-CG'), value='SLSQP')"
      ]
     },
     "metadata": {},
     "output_type": "display_data"
    },
    {
     "data": {
      "application/vnd.jupyter.widget-view+json": {
       "model_id": "71cdfd2830814ea4b14c91fbc19fd346",
       "version_major": 2,
       "version_minor": 0
      },
      "text/plain": [
       "IntText(value=7, description='Max Iteration:')"
      ]
     },
     "metadata": {},
     "output_type": "display_data"
    },
    {
     "data": {
      "application/vnd.jupyter.widget-view+json": {
       "model_id": "3a5784aabd9b4979894b6c87191ee4f9",
       "version_major": 2,
       "version_minor": 0
      },
      "text/plain": [
       "Dropdown(description='Objective', options=('NSE', 'KGE', 'RMSE', 'R2', 'RMPW', 'NSLF'), value='NSE')"
      ]
     },
     "metadata": {},
     "output_type": "display_data"
    }
   ],
   "source": [
    "files = glob.glob1('./Data','*.csv')\n",
    "\n",
    "file = widgets.Dropdown(\n",
    "    options=files,\n",
    "    description='Data:',\n",
    "    disabled=False,\n",
    ")\n",
    "\n",
    "w = widgets.Dropdown(\n",
    "    options=['NAM', 'HBV', 'GR4J'],\n",
    "    value='HBV',\n",
    "    description='Model:',\n",
    "    disabled=False,\n",
    ")\n",
    "\n",
    "\n",
    "area = widgets.BoundedFloatText(\n",
    "    value=100,\n",
    "    min=0,\n",
    "    max=5000.0,\n",
    "    step=0.1,\n",
    "    description='Area:',\n",
    "    disabled=False\n",
    ")\n",
    "\n",
    "cal = widgets.RadioButtons(\n",
    "    options=['True','False'],\n",
    "    value='False',\n",
    "    description='Calibration <br>: ',\n",
    "    disabled=False\n",
    ")\n",
    "\n",
    "m = widgets.Dropdown(\n",
    "    options=['SLSQP', 'PSO', 'BFGS','Newton-CG'],\n",
    "    value='SLSQP',\n",
    "    description='Method:',\n",
    "    disabled=False,\n",
    ")\n",
    "\n",
    "max_ = widgets.IntText(\n",
    "    value=7,\n",
    "    description='Max Iteration:',\n",
    "    disabled=False\n",
    ")\n",
    "\n",
    "\n",
    "spin = widgets.IntText(\n",
    "    value=7,\n",
    "    description='Spinoff Day:',\n",
    "    disabled=False\n",
    ")\n",
    "\n",
    "\n",
    "obj = widgets.Dropdown(\n",
    "    options=['NSE', 'KGE', 'RMSE','R2','RMPW','NSLF'],\n",
    "    value='NSE',\n",
    "    description='Objective',\n",
    "    disabled=False,\n",
    ")\n",
    "\n",
    "\n",
    "\n",
    "display(file,w,area,cal,m,max_,obj)"
   ]
  },
  {
   "cell_type": "code",
   "execution_count": 6,
   "metadata": {},
   "outputs": [],
   "source": [
    "if w.value == 'HBV':\n",
    "    params = [1.06653896e+00, 7.85803777e-01, 1.12456396e+00, 4.00000005e-02\n",
    "        , 6.52779758e+01, 1.40000000e+00, 2.04563613e-01, 5.00000000e-01\n",
    "        , 7.23806920e-03, 6.20000000e-04, 5.98308241e-01, 2.29012429e+00\n",
    "        , 2.32816764e-02, 4.01249854e-01, 0.00000000e+00, 1.25000000e-01\n",
    "        , 1.19040117e+00, 1.40000000e+00, 6.15462361e+00]\n",
    "    States = np.array([0, 0, 0.9 * params[1], 0, 0, 0, 0, 0.1])\n",
    "elif w.value == 'NAM':\n",
    "        params = [6.96780205e+00, 4.86098809e+02, 6.66247792e-01, 5.42601108e+02\n",
    "        , 2.43815545e+01, 8.21285865e-01, 1.00000000e-02, 1.00000000e-02\n",
    "        , 7.37979357e+02, 9.64180895e-01, 2.06295770e+00]\n",
    "        States = np.array([0, 0, 0.9 * params[1], 0, 0, 0, 0, 0.1])\n",
    "else:\n",
    "        params = np.array([350, 0.5, 90, 0.5, 0.5, 4])"
   ]
  },
  {
   "cell_type": "code",
   "execution_count": 7,
   "metadata": {
    "pycharm": {
     "is_executing": false
    }
   },
   "outputs": [
    {
     "name": "stdout",
     "output_type": "stream",
     "text": [
      "NAM Darbogaz.csv 100.0 True SLSQP 7 NSE\n"
     ]
    }
   ],
   "source": [
    "print(w.value,file.value,area.value,cal.value,m.value,max_.value,obj.value)"
   ]
  },
  {
   "cell_type": "code",
   "execution_count": 8,
   "metadata": {
    "pycharm": {
     "is_executing": false,
     "name": "#%%\n"
    }
   },
   "outputs": [
    {
     "data": {
      "application/vnd.jupyter.widget-view+json": {
       "model_id": "0c9d66e51d3e422b9f6d39c62c9835a8",
       "version_major": 2,
       "version_minor": 0
      },
      "text/plain": [
       "Button(description='Run', style=ButtonStyle())"
      ]
     },
     "metadata": {},
     "output_type": "display_data"
    },
    {
     "data": {
      "application/vnd.jupyter.widget-view+json": {
       "model_id": "41268af24a684b038ed8e3b8a1bd953b",
       "version_major": 2,
       "version_minor": 0
      },
      "text/plain": [
       "Output()"
      ]
     },
     "metadata": {},
     "output_type": "display_data"
    }
   ],
   "source": [
    "button = widgets.Button(description=\"Run\")\n",
    "output = widgets.Output()\n",
    "display(button,output)\n",
    "\n",
    "\n",
    "def on_button_clicked(b):\n",
    "    with output:\n",
    "        if w.value == 'HBV':\n",
    "            n = HBV_pso.Hbv(area.value, params, States, calibration=eval(cal.value), method=m.value, Objective_fun=obj.value.lower(), maxiter=max_.value)\n",
    "        elif w.value == 'NAM':\n",
    "            n = nam_pso.Nam(area.value, params,States, calibration=eval(cal.value), method=m.value, Objective_fun=obj.value.lower(),maxiter=max_.value)\n",
    "        else:\n",
    "            n = GR4J_pso.GR4J(area.value, params, params, calibration=eval(cal.value), method=m.value, Objective_fun=obj.value.lower(), maxiter=max_.value, Spinoff=spin.value)\n",
    "        n.process_path = './Data'\n",
    "        n.Data_file = os.path.join(n.process_path, file.value)\n",
    "        n.run()\n",
    "        # n.update()\n",
    "        # clear_output()\n",
    "        n.draw()\n",
    "#         print(n.df.head())\n",
    "#         source = ColumnDataSource(n.df)\n",
    "#         p = figure(plot_width=900, plot_height=600)\n",
    "#         p.line(x='Date', y='Qsim',source=source,line_color=\"red\", line_width=2,legend_label='_filled',alpha = 0.8)\n",
    "#         show(p)\n",
    "#         print('run')        \n",
    "button.on_click(on_button_clicked)\n"
   ]
  },
  {
   "cell_type": "code",
   "execution_count": null,
   "metadata": {},
   "outputs": [],
   "source": []
  }
 ],
 "metadata": {
  "kernelspec": {
   "display_name": "Python 3",
   "language": "python",
   "name": "python3"
  },
  "language_info": {
   "codemirror_mode": {
    "name": "ipython",
    "version": 3
   },
   "file_extension": ".py",
   "mimetype": "text/x-python",
   "name": "python",
   "nbconvert_exporter": "python",
   "pygments_lexer": "ipython3",
   "version": "3.8.1"
  },
  "pycharm": {
   "stem_cell": {
    "cell_type": "raw",
    "metadata": {
     "collapsed": false
    },
    "source": []
   }
  }
 },
 "nbformat": 4,
 "nbformat_minor": 4
}
